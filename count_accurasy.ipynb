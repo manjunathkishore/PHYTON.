{
  "nbformat": 4,
  "nbformat_minor": 0,
  "metadata": {
    "colab": {
      "provenance": []
    },
    "kernelspec": {
      "name": "python3",
      "display_name": "Python 3"
    },
    "language_info": {
      "name": "python"
    }
  },
  "cells": [
    {
      "cell_type": "code",
      "source": [
        "def count_occurrences(lst, element):\n",
        "    return lst.count(element)\n",
        "numbers = [1,2,3,6,5,4,7,8,5,4,1,2,3,6,5,2,2]\n",
        "target = 2\n",
        "print(f\"{target} appears {count_occurrences(numbers, target)} times.\")\n"
      ],
      "metadata": {
        "colab": {
          "base_uri": "https://localhost:8080/"
        },
        "id": "N3c23-sFzx28",
        "outputId": "05a64a89-e47b-4cec-b634-6592a63feba8"
      },
      "execution_count": 16,
      "outputs": [
        {
          "output_type": "stream",
          "name": "stdout",
          "text": [
            "2 appears 4 times.\n"
          ]
        }
      ]
    }
  ]
}