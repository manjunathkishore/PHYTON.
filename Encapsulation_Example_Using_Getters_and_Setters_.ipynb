{
  "nbformat": 4,
  "nbformat_minor": 0,
  "metadata": {
    "colab": {
      "provenance": []
    },
    "kernelspec": {
      "name": "python3",
      "display_name": "Python 3"
    },
    "language_info": {
      "name": "python"
    }
  },
  "cells": [
    {
      "cell_type": "code",
      "source": [
        "class BankAccount:\n",
        "    def __init__(self, balance):\n",
        "        self.__balance = balance\n",
        "\n",
        "\n",
        "    def get_balance(self):\n",
        "        return self.__balance\n",
        "\n",
        "\n",
        "    def set_balance(self, amount):\n",
        "        if amount >= 0:\n",
        "            self.__balance = amount\n",
        "            print(f\"Balance updated to {self.__balance}\")\n",
        "        else:\n",
        "            print(\"account is active\")\n",
        "\n",
        "\n",
        "account = BankAccount(1000)\n",
        "\n",
        "print(\"Current Balance:\", account.get_balance())\n",
        "\n",
        "account.set_balance(2000)\n",
        "\n",
        "account.set_balance(-500)\n"
      ],
      "metadata": {
        "colab": {
          "base_uri": "https://localhost:8080/"
        },
        "id": "FUOdyRDs_0nF",
        "outputId": "6f923815-1b1d-4928-db57-1b46b973d1a1"
      },
      "execution_count": 85,
      "outputs": [
        {
          "output_type": "stream",
          "name": "stdout",
          "text": [
            "Current Balance: 1000\n",
            "Balance updated to 2000\n",
            "account is active\n"
          ]
        }
      ]
    }
  ]
}