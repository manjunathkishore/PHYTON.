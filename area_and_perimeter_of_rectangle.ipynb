{
  "nbformat": 4,
  "nbformat_minor": 0,
  "metadata": {
    "colab": {
      "provenance": []
    },
    "kernelspec": {
      "name": "python3",
      "display_name": "Python 3"
    },
    "language_info": {
      "name": "python"
    }
  },
  "cells": [
    {
      "cell_type": "code",
      "source": [
        "l=float(input(\"enter the length\"))\n",
        "b=float(input(\"enter the breadth\"))\n",
        "area=l*b\n",
        "perimeter=2*(l+b)\n",
        "print(\"Area\",area,\"\\nperimeter\",perimeter)\n"
      ],
      "metadata": {
        "colab": {
          "base_uri": "https://localhost:8080/"
        },
        "id": "R83DsjARk442",
        "outputId": "076656b0-73c9-4a5f-c8fb-341bfaa2a90f"
      },
      "execution_count": 47,
      "outputs": [
        {
          "output_type": "stream",
          "name": "stdout",
          "text": [
            "enter the length2\n",
            "enter the breadth3\n",
            "Area 6.0 \n",
            "perimeter 10.0\n"
          ]
        }
      ]
    }
  ]
}