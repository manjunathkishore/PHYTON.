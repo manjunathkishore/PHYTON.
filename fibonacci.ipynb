{
  "nbformat": 4,
  "nbformat_minor": 0,
  "metadata": {
    "colab": {
      "provenance": []
    },
    "kernelspec": {
      "name": "python3",
      "display_name": "Python 3"
    },
    "language_info": {
      "name": "python"
    }
  },
  "cells": [
    {
      "cell_type": "code",
      "source": [
        "def fibonacci(n):\n",
        "    if n == 0:\n",
        "        return []\n",
        "    elif n == 1:\n",
        "        return [0]\n",
        "    elif n == 2:\n",
        "        return [0, 1]\n",
        "\n",
        "    fib_series = [0, 1]\n",
        "    for i in range(2, n):\n",
        "        fib_series = fib_series + [fib_series[i - 1] + fib_series[i - 2]]\n",
        "    return fib_series\n",
        "print(fibonacci(10))"
      ],
      "metadata": {
        "colab": {
          "base_uri": "https://localhost:8080/"
        },
        "id": "xY0RTgEQtnql",
        "outputId": "23059150-3e14-4094-d930-2adba91ad788"
      },
      "execution_count": 28,
      "outputs": [
        {
          "output_type": "stream",
          "name": "stdout",
          "text": [
            "[0, 1, 1, 2, 3, 5, 8, 13, 21, 34]\n"
          ]
        }
      ]
    }
  ]
}