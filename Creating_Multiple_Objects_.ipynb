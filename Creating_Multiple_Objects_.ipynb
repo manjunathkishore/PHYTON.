{
  "nbformat": 4,
  "nbformat_minor": 0,
  "metadata": {
    "colab": {
      "provenance": []
    },
    "kernelspec": {
      "name": "python3",
      "display_name": "Python 3"
    },
    "language_info": {
      "name": "python"
    }
  },
  "cells": [
    {
      "cell_type": "code",
      "source": [
        "class Car:\n",
        "    def __init__(self, brand, model):\n",
        "        self.brand = brand\n",
        "        self.model = model\n",
        "\n",
        "    def display(self):\n",
        "        print(f\"Car Brand: {self.brand}, Model: {self.model}\")\n",
        "car1 = Car(\"Toyota\", \"Corolla\")\n",
        "car2 = Car(\"Honda\", \"Civic\")\n",
        "\n",
        "\n",
        "car1.display()\n",
        "car2.display()\n"
      ],
      "metadata": {
        "colab": {
          "base_uri": "https://localhost:8080/"
        },
        "id": "KU1oHJOp96qV",
        "outputId": "9329e256-8abd-4f1c-8595-f055c50059c3"
      },
      "execution_count": 80,
      "outputs": [
        {
          "output_type": "stream",
          "name": "stdout",
          "text": [
            "Car Brand: Toyota, Model: Corolla\n",
            "Car Brand: Honda, Model: Civic\n"
          ]
        }
      ]
    },
    {
      "cell_type": "code",
      "source": [
        "class Car:\n",
        "    def __init__(self, brand, model):\n",
        "        self.brand = brand\n",
        "        self.model = model\n",
        "\n",
        "    def display(self):\n",
        "        print(f\"Car Brand: {self.brand}, Model: {self.model}\")\n",
        "\n",
        "car1 = Car(\"Toyota\", \"Corolla\")\n",
        "car2 = Car(\"Honda\", \"Civic\")\n",
        "car3 = Car(\"Ford\", \"Mustang\")\n",
        "car4 = Car(\"BMW\", \"X5\")\n",
        "cars = [car1, car2, car3, car4]\n",
        "for car in cars:\n",
        "  car.display()"
      ],
      "metadata": {
        "colab": {
          "base_uri": "https://localhost:8080/"
        },
        "id": "z33SijEp-g80",
        "outputId": "77a41ec1-cc48-46d5-f56c-631e8681c5f3"
      },
      "execution_count": 82,
      "outputs": [
        {
          "output_type": "stream",
          "name": "stdout",
          "text": [
            "Car Brand: Toyota, Model: Corolla\n",
            "Car Brand: Honda, Model: Civic\n",
            "Car Brand: Ford, Model: Mustang\n",
            "Car Brand: BMW, Model: X5\n"
          ]
        }
      ]
    }
  ]
}