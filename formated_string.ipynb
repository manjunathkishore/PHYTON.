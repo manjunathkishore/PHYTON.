{
  "nbformat": 4,
  "nbformat_minor": 0,
  "metadata": {
    "colab": {
      "provenance": []
    },
    "kernelspec": {
      "name": "python3",
      "display_name": "Python 3"
    },
    "language_info": {
      "name": "python"
    }
  },
  "cells": [
    {
      "cell_type": "code",
      "execution_count": 4,
      "metadata": {
        "colab": {
          "base_uri": "https://localhost:8080/"
        },
        "id": "439mSDBdFLZH",
        "outputId": "e17ad330-696d-417b-816a-aa6f05754f45"
      },
      "outputs": [
        {
          "output_type": "stream",
          "name": "stdout",
          "text": [
            "first  num 1,second num 4,third number 3\n"
          ]
        }
      ],
      "source": [
        "a=1\n",
        "b=4\n",
        "c=3\n",
        "print(f\"first  num {a},second num {b},third number {c}\")"
      ]
    },
    {
      "cell_type": "code",
      "source": [
        "def fibonacci(n):\n",
        "   sequence = []\n",
        "   a, b = 0, 1\n",
        "   for i in range(n):\n",
        "     sequence.append(a)\n",
        "     a, b = b, a + b\n",
        "   return sequence\n",
        "terms = int(input(\"Enter the number of terms: \"))\n",
        "print(\"Fibonacci sequence:\", fibonacci(terms))"
      ],
      "metadata": {
        "colab": {
          "base_uri": "https://localhost:8080/"
        },
        "id": "d2g-m3TDJOXO",
        "outputId": "1330fede-8910-4757-dd0b-6cf2a177c1ed"
      },
      "execution_count": 14,
      "outputs": [
        {
          "output_type": "stream",
          "name": "stdout",
          "text": [
            "Enter the number of terms: 4\n",
            "Fibonacci sequence: [0, 1, 1, 2]\n"
          ]
        }
      ]
    }
  ]
}