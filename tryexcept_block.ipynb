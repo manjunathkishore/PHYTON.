{
  "nbformat": 4,
  "nbformat_minor": 0,
  "metadata": {
    "colab": {
      "provenance": []
    },
    "kernelspec": {
      "name": "python3",
      "display_name": "Python 3"
    },
    "language_info": {
      "name": "python"
    }
  },
  "cells": [
    {
      "cell_type": "code",
      "source": [
        "try:\n",
        "  num = int(input(\"Enter a number: \"))\n",
        "  print(10 / num)\n",
        "except ZeroDivisionError:\n",
        "  print(\"You cannot divide by zero.\")\n",
        "except ValueError:\n",
        "  print(\"Invalid input! Please enter a number.\")"
      ],
      "metadata": {
        "colab": {
          "base_uri": "https://localhost:8080/"
        },
        "id": "XAu2EJ7MZya_",
        "outputId": "2fd3b1d6-bc77-43fd-ec91-705aea2acec0"
      },
      "execution_count": 20,
      "outputs": [
        {
          "output_type": "stream",
          "name": "stdout",
          "text": [
            "Enter a number: 5\n",
            "2.0\n"
          ]
        }
      ]
    }
  ]
}