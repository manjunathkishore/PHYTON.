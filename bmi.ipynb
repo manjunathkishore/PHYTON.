{
  "nbformat": 4,
  "nbformat_minor": 0,
  "metadata": {
    "colab": {
      "provenance": []
    },
    "kernelspec": {
      "name": "python3",
      "display_name": "Python 3"
    },
    "language_info": {
      "name": "python"
    }
  },
  "cells": [
    {
      "cell_type": "code",
      "source": [
        "w=int(input(\"enter weight\"))\n",
        "h=float(input(\"enter height\"))\n",
        "bmi=w/(h*h)\n",
        "print(bmi)"
      ],
      "metadata": {
        "colab": {
          "base_uri": "https://localhost:8080/"
        },
        "id": "SGPbdFoadPB5",
        "outputId": "7d9db8f7-8223-40ec-d62e-edbd092f8967"
      },
      "execution_count": 33,
      "outputs": [
        {
          "output_type": "stream",
          "name": "stdout",
          "text": [
            "enter weight50\n",
            "enter height5.2\n",
            "1.8491124260355027\n"
          ]
        }
      ]
    }
  ]
}