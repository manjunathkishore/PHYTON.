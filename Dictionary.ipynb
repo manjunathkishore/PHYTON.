{
  "nbformat": 4,
  "nbformat_minor": 0,
  "metadata": {
    "colab": {
      "provenance": []
    },
    "kernelspec": {
      "name": "python3",
      "display_name": "Python 3"
    },
    "language_info": {
      "name": "python"
    }
  },
  "cells": [
    {
      "cell_type": "code",
      "source": [
        "about={\n",
        "    \"name\":\"kishore\",\n",
        "    \"age\" :\"18\",\n",
        "    \"weight\":\"50\"\n",
        "}\n",
        "print(about[\"name\"],about[\"age\"],about[\"weight\"])"
      ],
      "metadata": {
        "colab": {
          "base_uri": "https://localhost:8080/"
        },
        "id": "0_VVeCb4HvTH",
        "outputId": "33cac5e4-01b0-47f1-a1c2-d18e8decdf18"
      },
      "execution_count": 27,
      "outputs": [
        {
          "output_type": "stream",
          "name": "stdout",
          "text": [
            "kishore 18 50\n"
          ]
        }
      ]
    }
  ]
}