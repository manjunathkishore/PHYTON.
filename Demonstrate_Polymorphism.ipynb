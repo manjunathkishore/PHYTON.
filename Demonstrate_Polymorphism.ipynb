{
  "nbformat": 4,
  "nbformat_minor": 0,
  "metadata": {
    "colab": {
      "provenance": []
    },
    "kernelspec": {
      "name": "python3",
      "display_name": "Python 3"
    },
    "language_info": {
      "name": "python"
    }
  },
  "cells": [
    {
      "cell_type": "code",
      "source": [
        "class Shape:\n",
        "  def area(self):\n",
        "    pass\n",
        "class Rectangle(Shape):\n",
        "  def __init__(self, length, width):\n",
        "    self.length = length\n",
        "    self.width = width\n",
        "    def area(self):\n",
        "      return self.length * self.width\n",
        "class Circle(Shape):\n",
        "  def __init__(self, radius):\n",
        "    self.radius = radius\n",
        "    def area(self):\n",
        "      return 3.14 * self.radius * self.radius\n",
        "shapes = [Rectangle(5, 5), Circle(5)]\n",
        "for shape in shapes:\n",
        "  print(\"Area:\", {shape.area()})"
      ],
      "metadata": {
        "colab": {
          "base_uri": "https://localhost:8080/"
        },
        "id": "fORILkRFjF3L",
        "outputId": "fa43ed32-1814-4bc9-8dbd-10aff6a827db"
      },
      "execution_count": 62,
      "outputs": [
        {
          "output_type": "stream",
          "name": "stdout",
          "text": [
            "Area: {None}\n",
            "Area: {None}\n"
          ]
        }
      ]
    }
  ]
}