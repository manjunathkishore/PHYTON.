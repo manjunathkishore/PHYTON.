{
  "nbformat": 4,
  "nbformat_minor": 0,
  "metadata": {
    "colab": {
      "provenance": []
    },
    "kernelspec": {
      "name": "python3",
      "display_name": "Python 3"
    },
    "language_info": {
      "name": "python"
    }
  },
  "cells": [
    {
      "cell_type": "code",
      "source": [
        "def find_max_min(lst):\n",
        "  if  not lst:\n",
        "     return None , None\n",
        "  return max(lst),min(lst)\n",
        "number=[6,8,9,2,3,4]\n",
        "largest, smallest = find_max_min(number)\n",
        "print(f\"Largest: {largest}, Smallest: {smallest}\")\n",
        "\n"
      ],
      "metadata": {
        "colab": {
          "base_uri": "https://localhost:8080/"
        },
        "id": "xRnSGcLbxqDk",
        "outputId": "0d9116a0-2340-4354-c079-864737cd18ac"
      },
      "execution_count": 14,
      "outputs": [
        {
          "output_type": "stream",
          "name": "stdout",
          "text": [
            "Largest: 9, Smallest: 2\n"
          ]
        }
      ]
    }
  ]
}