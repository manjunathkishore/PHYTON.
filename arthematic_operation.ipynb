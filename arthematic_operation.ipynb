{
  "nbformat": 4,
  "nbformat_minor": 0,
  "metadata": {
    "colab": {
      "provenance": []
    },
    "kernelspec": {
      "name": "python3",
      "display_name": "Python 3"
    },
    "language_info": {
      "name": "python"
    }
  },
  "cells": [
    {
      "cell_type": "code",
      "source": [
        "num1 = int(input(\"Enter first number: \"))\n",
        "num2 = int(input(\"Enter second number: \"))\n",
        "\n",
        "addition = num1 + num2\n",
        "multiplication = num1 ** num2\n",
        "\n",
        "print(\"Addition:\", addition, \"\\nMultiplication:\", multiplication)\n"
      ],
      "metadata": {
        "colab": {
          "base_uri": "https://localhost:8080/"
        },
        "id": "69xhpZnvXxV3",
        "outputId": "b3b6f9e3-dd2e-4169-c685-3f1af4b1d2d2"
      },
      "execution_count": 22,
      "outputs": [
        {
          "output_type": "stream",
          "name": "stdout",
          "text": [
            "Enter first number: 4\n",
            "Enter second number: 2\n",
            "Addition: 6 \n",
            "Multiplication: 16\n"
          ]
        }
      ]
    }
  ]
}