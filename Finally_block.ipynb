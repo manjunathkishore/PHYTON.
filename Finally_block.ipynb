{
  "nbformat": 4,
  "nbformat_minor": 0,
  "metadata": {
    "colab": {
      "provenance": []
    },
    "kernelspec": {
      "name": "python3",
      "display_name": "Python 3"
    },
    "language_info": {
      "name": "python"
    }
  },
  "cells": [
    {
      "cell_type": "code",
      "source": [
        "try:\n",
        "  file = open(\"example.txt\", \"r\")\n",
        "except FileNotFoundError:\n",
        "  print(\"File not found.\")\n",
        "finally:\n",
        "  print(\"Execution complete.\")"
      ],
      "metadata": {
        "colab": {
          "base_uri": "https://localhost:8080/",
          "height": 0
        },
        "id": "EQ_jVoUJaOs1",
        "outputId": "d639ae80-575c-4b64-a855-1fd78ba3aae6"
      },
      "execution_count": 21,
      "outputs": [
        {
          "output_type": "stream",
          "name": "stdout",
          "text": [
            "File not found.\n",
            "Execution complete.\n"
          ]
        }
      ]
    }
  ]
}