{
  "nbformat": 4,
  "nbformat_minor": 0,
  "metadata": {
    "colab": {
      "provenance": []
    },
    "kernelspec": {
      "name": "python3",
      "display_name": "Python 3"
    },
    "language_info": {
      "name": "python"
    }
  },
  "cells": [
    {
      "cell_type": "code",
      "source": [
        "\n",
        "class Animal:\n",
        "    def __init__(self, name):\n",
        "        self.name = name\n",
        "\n",
        "    def speak(self):\n",
        "        return \"Some generic animal sound\"\n",
        "\n",
        "class Dog(Animal):\n",
        "    def __init__(self, name, breed):\n",
        "        super().__init__(name)\n",
        "        self.breed = breed\n",
        "\n",
        "    def speak(self):\n",
        "        return \"Woof! Woof!\"\n",
        "\n",
        "    def show_breed(self):\n",
        "        return f\"I am a {self.breed}.\"\n",
        "animal = Animal(\"Generic Animal\")\n",
        "dog = Dog(\"Buddy\", \"Golden Retriever\")\n",
        "print(f\"{animal.name} says: {animal.speak()}\")\n",
        "print(f\"{dog.name} says: {dog.speak()}\")\n",
        "print(dog.show_breed())\n"
      ],
      "metadata": {
        "colab": {
          "base_uri": "https://localhost:8080/"
        },
        "id": "qw76t9kSCoa4",
        "outputId": "b0680487-815d-48a5-b488-b6b7cfae940b"
      },
      "execution_count": 89,
      "outputs": [
        {
          "output_type": "stream",
          "name": "stdout",
          "text": [
            "Generic Animal says: Some generic animal sound\n",
            "Buddy says: Woof! Woof!\n",
            "I am a Golden Retriever.\n"
          ]
        }
      ]
    }
  ]
}