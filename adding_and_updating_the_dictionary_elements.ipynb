{
  "nbformat": 4,
  "nbformat_minor": 0,
  "metadata": {
    "colab": {
      "provenance": []
    },
    "kernelspec": {
      "name": "python3",
      "display_name": "Python 3"
    },
    "language_info": {
      "name": "python"
    }
  },
  "cells": [
    {
      "cell_type": "code",
      "source": [
        "numbers = [1, 2, 2, 3, 3, 3, 4, 4, 4, 4]\n",
        "target = 3\n",
        "print(f\"{target} appears {numbers.count(target)} times.\")\n"
      ],
      "metadata": {
        "colab": {
          "base_uri": "https://localhost:8080/"
        },
        "id": "aNxVwZSd3xF1",
        "outputId": "7daf9ffe-4036-4854-f217-a6fd56df31c1"
      },
      "execution_count": 38,
      "outputs": [
        {
          "output_type": "stream",
          "name": "stdout",
          "text": [
            "3 appears 3 times.\n"
          ]
        }
      ]
    },
    {
      "cell_type": "code",
      "source": [
        "person = {\"name\": \"kishore\", \"age\": 19, \"city\": \"tumkuru\"}\n",
        "person[\"country\"] = \"INDIA\"\n",
        "person[\"age\"] = 18\n",
        "print(person)"
      ],
      "metadata": {
        "colab": {
          "base_uri": "https://localhost:8080/"
        },
        "id": "ZYOpa8s09IwC",
        "outputId": "f35709d5-d9d1-411a-cfc9-1acf092ec6fd"
      },
      "execution_count": 46,
      "outputs": [
        {
          "output_type": "stream",
          "name": "stdout",
          "text": [
            "{'name': 'kishore', 'age': 18, 'city': 'tumkuru', 'country': 'INDIA'}\n"
          ]
        }
      ]
    }
  ]
}