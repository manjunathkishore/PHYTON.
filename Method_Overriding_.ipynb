{
  "nbformat": 4,
  "nbformat_minor": 0,
  "metadata": {
    "colab": {
      "provenance": []
    },
    "kernelspec": {
      "name": "python3",
      "display_name": "Python 3"
    },
    "language_info": {
      "name": "python"
    }
  },
  "cells": [
    {
      "cell_type": "code",
      "source": [
        "\n",
        "class Animal:\n",
        "    def speak(self):\n",
        "        return \"Some generic animal sound\"\n",
        "\n",
        "\n",
        "class Dog(Animal):\n",
        "    def speak(self):\n",
        "        return \"Woof! Woof!\"\n",
        "\n",
        "class Cat(Animal):\n",
        "    def speak(self):\n",
        "        return \"Meow! Meow!\"\n",
        "\n",
        "dog = Dog()\n",
        "cat = Cat()\n",
        "generic_animal = Animal()\n",
        "\n",
        "print(\"Dog says:\", dog.speak())\n",
        "print(\"Cat says:\", cat.speak())\n",
        "print(\"Generic Animal says:\", generic_animal.speak())\n"
      ],
      "metadata": {
        "colab": {
          "base_uri": "https://localhost:8080/"
        },
        "id": "vRKYDgHPDUFN",
        "outputId": "4b4a3b07-03be-4c32-d4cc-c44d227e65b8"
      },
      "execution_count": 91,
      "outputs": [
        {
          "output_type": "stream",
          "name": "stdout",
          "text": [
            "Dog says: Woof! Woof!\n",
            "Cat says: Meow! Meow!\n",
            "Generic Animal says: Some generic animal sound\n"
          ]
        }
      ]
    }
  ]
}