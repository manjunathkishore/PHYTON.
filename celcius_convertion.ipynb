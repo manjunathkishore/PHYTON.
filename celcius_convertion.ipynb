{
  "nbformat": 4,
  "nbformat_minor": 0,
  "metadata": {
    "colab": {
      "provenance": []
    },
    "kernelspec": {
      "name": "python3",
      "display_name": "Python 3"
    },
    "language_info": {
      "name": "python"
    }
  },
  "cells": [
    {
      "cell_type": "code",
      "source": [
        "celsius=float(input(\"enter tem in celsius\"))\n",
        "faren=(celsius*9/5)+32\n",
        "print(\"temperature in faren\",faren)"
      ],
      "metadata": {
        "colab": {
          "base_uri": "https://localhost:8080/"
        },
        "id": "JoMXIMKfbjYV",
        "outputId": "c8c9ef39-1a43-4720-e2ff-80636ded9e63"
      },
      "execution_count": 28,
      "outputs": [
        {
          "output_type": "stream",
          "name": "stdout",
          "text": [
            "enter tem in celsius100\n",
            "temperature in faren 212.0\n"
          ]
        }
      ]
    }
  ]
}