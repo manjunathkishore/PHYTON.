{
  "nbformat": 4,
  "nbformat_minor": 0,
  "metadata": {
    "colab": {
      "provenance": []
    },
    "kernelspec": {
      "name": "python3",
      "display_name": "Python 3"
    },
    "language_info": {
      "name": "python"
    }
  },
  "cells": [
    {
      "cell_type": "code",
      "source": [
        "class Engine:\n",
        "    def start_engine(self):\n",
        "        return \"Engine started.\"\n",
        "class Wheels:\n",
        "    def rotate_wheels(self):\n",
        "        return \"Wheels are rotating.\"\n",
        "class Car(Engine, Wheels):\n",
        "    def drive(self):\n",
        "        return \"Car is moving.\"\n",
        "\n",
        "\n",
        "my_car = Car()\n",
        "\n",
        "print(my_car.start_engine())\n",
        "print(my_car.rotate_wheels())\n",
        "print(my_car.drive())\n"
      ],
      "metadata": {
        "colab": {
          "base_uri": "https://localhost:8080/"
        },
        "id": "tXPScVwHD2Qa",
        "outputId": "30021d17-38e8-4caf-a894-2349802069f1"
      },
      "execution_count": 92,
      "outputs": [
        {
          "output_type": "stream",
          "name": "stdout",
          "text": [
            "Engine started.\n",
            "Wheels are rotating.\n",
            "Car is moving.\n"
          ]
        }
      ]
    }
  ]
}