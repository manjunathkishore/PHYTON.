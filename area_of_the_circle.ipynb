{
  "nbformat": 4,
  "nbformat_minor": 0,
  "metadata": {
    "colab": {
      "provenance": []
    },
    "kernelspec": {
      "name": "python3",
      "display_name": "Python 3"
    },
    "language_info": {
      "name": "python"
    }
  },
  "cells": [
    {
      "cell_type": "code",
      "source": [
        "r=float(input(\"enter the radius of the circle:\"))\n",
        "area=3.14*r*r\n",
        "print(\"area of the circle\",area)"
      ],
      "metadata": {
        "colab": {
          "base_uri": "https://localhost:8080/"
        },
        "id": "r1oBa1MDaK5Z",
        "outputId": "2debdf91-f6f4-4779-e56c-54cc9285c7cd"
      },
      "execution_count": 23,
      "outputs": [
        {
          "output_type": "stream",
          "name": "stdout",
          "text": [
            "enter the radius of the circle:2\n",
            "area of the circle 12.56\n"
          ]
        }
      ]
    }
  ]
}