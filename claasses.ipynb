{
  "nbformat": 4,
  "nbformat_minor": 0,
  "metadata": {
    "colab": {
      "provenance": []
    },
    "kernelspec": {
      "name": "python3",
      "display_name": "Python 3"
    },
    "language_info": {
      "name": "python"
    }
  },
  "cells": [
    {
      "cell_type": "code",
      "source": [
        "class Person:\n",
        "  def __init__(self, a, b):\n",
        "    self.a = a\n",
        "    self.b = b\n",
        "  def greet(self):\n",
        "    print(f\"Hello, my name is {self.a} and I am {self.b} years old.\")\n",
        "person1 = Person(\"kishore\", 18)\n",
        "person1.greet()"
      ],
      "metadata": {
        "colab": {
          "base_uri": "https://localhost:8080/"
        },
        "id": "tnqHuTioWbkf",
        "outputId": "d877be6c-d275-4c5f-b477-7bde0b7441a7"
      },
      "execution_count": 32,
      "outputs": [
        {
          "output_type": "stream",
          "name": "stdout",
          "text": [
            "Hello, my name is kishore and I am 18 years old.\n"
          ]
        }
      ]
    }
  ]
}