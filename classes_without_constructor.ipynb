{
  "nbformat": 4,
  "nbformat_minor": 0,
  "metadata": {
    "colab": {
      "provenance": []
    },
    "kernelspec": {
      "name": "python3",
      "display_name": "Python 3"
    },
    "language_info": {
      "name": "python"
    }
  },
  "cells": [
    {
      "cell_type": "code",
      "execution_count": 1,
      "metadata": {
        "colab": {
          "base_uri": "https://localhost:8080/"
        },
        "id": "NtvlDBjrzhzC",
        "outputId": "d8a1f262-b7e0-4c46-d7fe-8192a0d47744"
      },
      "outputs": [
        {
          "output_type": "stream",
          "name": "stdout",
          "text": [
            "Hello, my name is Kishore and I am 18 years old.\n"
          ]
        }
      ],
      "source": [
        "class Person:\n",
        "    def greet(self, name, age):\n",
        "        print(f\"Hello, my name is {name} and I am {age} years old.\")\n",
        "person1 = Person()\n",
        "person1.greet(\"Kishore\", 18)\n"
      ]
    }
  ]
}