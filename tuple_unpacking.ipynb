{
  "nbformat": 4,
  "nbformat_minor": 0,
  "metadata": {
    "colab": {
      "provenance": []
    },
    "kernelspec": {
      "name": "python3",
      "display_name": "Python 3"
    },
    "language_info": {
      "name": "python"
    }
  },
  "cells": [
    {
      "cell_type": "code",
      "source": [
        "person = (\"kishore\", 18, \"Engineering\")\n",
        "person =name, age, profession\n",
        "print(f\"Name: {name}\")\n",
        "print(f\"Age: {age}\")\n",
        "print(f\"Profession: {profession}\")\n"
      ],
      "metadata": {
        "colab": {
          "base_uri": "https://localhost:8080/"
        },
        "id": "gLSHNutA3Ynk",
        "outputId": "ef731989-7d1a-43ab-c287-b8235bdae505"
      },
      "execution_count": 37,
      "outputs": [
        {
          "output_type": "stream",
          "name": "stdout",
          "text": [
            "Name: kishore\n",
            "Age: 18\n",
            "Profession: Engineering\n"
          ]
        }
      ]
    }
  ]
}