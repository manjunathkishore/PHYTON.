{
  "nbformat": 4,
  "nbformat_minor": 0,
  "metadata": {
    "colab": {
      "provenance": []
    },
    "kernelspec": {
      "name": "python3",
      "display_name": "Python 3"
    },
    "language_info": {
      "name": "python"
    }
  },
  "cells": [
    {
      "cell_type": "code",
      "source": [
        "def greet(name, age):\n",
        "    print(f\"Hello {name}, you are {age} years old.\")\n",
        "\n",
        "greet(\"kishore\", 19)"
      ],
      "metadata": {
        "colab": {
          "base_uri": "https://localhost:8080/"
        },
        "id": "oQQTb3o9lzK0",
        "outputId": "875a43c1-1040-4bd5-a584-4ad8033016df"
      },
      "execution_count": 1,
      "outputs": [
        {
          "output_type": "stream",
          "name": "stdout",
          "text": [
            "Hello kishore, you are 19 years old.\n"
          ]
        }
      ]
    }
  ]
}