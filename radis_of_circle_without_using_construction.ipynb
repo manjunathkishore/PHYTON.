{
  "nbformat": 4,
  "nbformat_minor": 0,
  "metadata": {
    "colab": {
      "provenance": []
    },
    "kernelspec": {
      "name": "python3",
      "display_name": "Python 3"
    },
    "language_info": {
      "name": "python"
    }
  },
  "cells": [
    {
      "cell_type": "code",
      "source": [
        "class circle:\n",
        "  def area(self):\n",
        "    print(f\"area of the circle is {3.14*self.radius**2}\")\n",
        "circle1=circle()\n",
        "circle1.radius=3\n",
        "circle1.area()\n",
        ""
      ],
      "metadata": {
        "colab": {
          "base_uri": "https://localhost:8080/"
        },
        "id": "I20cI1G38Fbd",
        "outputId": "d366aca0-de9b-48e7-d9fe-4fe4df471165"
      },
      "execution_count": 7,
      "outputs": [
        {
          "output_type": "stream",
          "name": "stdout",
          "text": [
            "area of the circle is 28.26\n"
          ]
        }
      ]
    }
  ]
}