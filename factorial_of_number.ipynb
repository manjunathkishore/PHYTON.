{
  "nbformat": 4,
  "nbformat_minor": 0,
  "metadata": {
    "colab": {
      "provenance": []
    },
    "kernelspec": {
      "name": "python3",
      "display_name": "Python 3"
    },
    "language_info": {
      "name": "python"
    }
  },
  "cells": [
    {
      "cell_type": "code",
      "source": [
        "a=int(input(\"enter starting range\"))\n",
        "b=int(input(\"enter the ending range\"))\n",
        "fact=1\n",
        "for i in range(a,b+1):\n",
        "  fact*=i\n",
        "print(fact)"
      ],
      "metadata": {
        "colab": {
          "base_uri": "https://localhost:8080/"
        },
        "id": "NIY9KcNUmrvu",
        "outputId": "266659bd-a5c9-4635-ca2f-a717c6392850"
      },
      "execution_count": 12,
      "outputs": [
        {
          "output_type": "stream",
          "name": "stdout",
          "text": [
            "enter starting range2\n",
            "enter the ending range5\n",
            "120\n"
          ]
        }
      ]
    }
  ]
}