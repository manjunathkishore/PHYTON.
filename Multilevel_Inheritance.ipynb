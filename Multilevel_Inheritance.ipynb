{
  "nbformat": 4,
  "nbformat_minor": 0,
  "metadata": {
    "colab": {
      "provenance": []
    },
    "kernelspec": {
      "name": "python3",
      "display_name": "Python 3"
    },
    "language_info": {
      "name": "python"
    }
  },
  "cells": [
    {
      "cell_type": "code",
      "source": [
        "class Animal:\n",
        "    def breathe(self):\n",
        "        return \"Breathing...\"\n",
        "\n",
        "class Mammal(Animal):\n",
        "    def feed_milk(self):\n",
        "        return \"Feeding milk to young ones.\"\n",
        "class Dog(Mammal):\n",
        "    def bark(self):\n",
        "        return \"Woof! Woof!\"\n",
        "\n",
        "dog = Dog()\n",
        "\n",
        "print(dog.breathe())\n",
        "print(dog.feed_milk())\n",
        "print(dog.bark())\n"
      ],
      "metadata": {
        "colab": {
          "base_uri": "https://localhost:8080/"
        },
        "id": "cdz7vrHPEvO9",
        "outputId": "4c7a6a55-f6bf-4027-9667-6ed63aee34c2"
      },
      "execution_count": 95,
      "outputs": [
        {
          "output_type": "stream",
          "name": "stdout",
          "text": [
            "Breathing...\n",
            "Feeding milk to young ones.\n",
            "Woof! Woof!\n"
          ]
        }
      ]
    }
  ]
}