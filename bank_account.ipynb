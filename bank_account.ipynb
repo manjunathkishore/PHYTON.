{
  "nbformat": 4,
  "nbformat_minor": 0,
  "metadata": {
    "colab": {
      "provenance": []
    },
    "kernelspec": {
      "name": "python3",
      "display_name": "Python 3"
    },
    "language_info": {
      "name": "python"
    }
  },
  "cells": [
    {
      "cell_type": "code",
      "source": [
        "class BankAccount:\n",
        "  def __init__(self,account_number,balance):\n",
        "    self.account_number=account_number\n",
        "    self.balance=balance\n",
        "  def deposit(self,amount):\n",
        "    self.balance+=amount\n",
        "    print(f\"Deposited{amount}.new balance:{self.balance}\")\n",
        "  def credit(self,amount):\n",
        "    if amount<=self.balance:\n",
        "      self.balance -=amount\n",
        "      print(f\"Credited{amount}.new balance:{self.balance}.\")\n",
        "    else:\n",
        "      print(\"insuficient balance\")\n",
        "account=BankAccount(12345,5000)\n",
        "account.deposit(1000)\n",
        "account.credit(500)"
      ],
      "metadata": {
        "colab": {
          "base_uri": "https://localhost:8080/"
        },
        "id": "cSa5UvOyYLhC",
        "outputId": "fdf7c799-92e5-4b27-ad8b-a02b1265b29d"
      },
      "execution_count": 54,
      "outputs": [
        {
          "output_type": "stream",
          "name": "stdout",
          "text": [
            "Deposited1000.new balance:6000\n",
            "Credited500.new balance:5500.\n"
          ]
        }
      ]
    }
  ]
}