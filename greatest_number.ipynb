{
  "nbformat": 4,
  "nbformat_minor": 0,
  "metadata": {
    "colab": {
      "provenance": []
    },
    "kernelspec": {
      "name": "python3",
      "display_name": "Python 3"
    },
    "language_info": {
      "name": "python"
    }
  },
  "cells": [
    {
      "cell_type": "code",
      "source": [
        "num1=float(input(\"enter number1:\"))\n",
        "num2=float(input(\"enter number2:\"))\n",
        "num3=float(input(\"enter numbwer3:\"))\n",
        "if num1>num2 and num1>=num3:\n",
        "  print(\"num1 is big\")\n",
        "elif num2>num3:\n",
        "  print(\"num2 is big\")\n",
        "else:\n",
        "  print(\"num3 is big\")\n"
      ],
      "metadata": {
        "colab": {
          "base_uri": "https://localhost:8080/"
        },
        "id": "cZFG9CQM3r9S",
        "outputId": "7bb88104-230c-4ae9-dd53-414c10cd8dd2"
      },
      "execution_count": 10,
      "outputs": [
        {
          "output_type": "stream",
          "name": "stdout",
          "text": [
            "enter number1:2\n",
            "enter number2:5\n",
            "enter numbwer3:3\n",
            "num2 is big\n"
          ]
        }
      ]
    }
  ]
}