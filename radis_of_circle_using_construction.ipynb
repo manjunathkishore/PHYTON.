{
  "nbformat": 4,
  "nbformat_minor": 0,
  "metadata": {
    "colab": {
      "provenance": []
    },
    "kernelspec": {
      "name": "python3",
      "display_name": "Python 3"
    },
    "language_info": {
      "name": "python"
    }
  },
  "cells": [
    {
      "cell_type": "code",
      "execution_count": 6,
      "metadata": {
        "colab": {
          "base_uri": "https://localhost:8080/"
        },
        "id": "NtvlDBjrzhzC",
        "outputId": "750a10cb-3f3b-4652-8fca-f3343087b0c5"
      },
      "outputs": [
        {
          "output_type": "stream",
          "name": "stdout",
          "text": [
            "area of the circle is 113.04\n"
          ]
        }
      ],
      "source": [
        "class circle:\n",
        "  def __init__(self,radius):\n",
        "    self.radius=radius\n",
        "  def area(self):\n",
        "    print(f\"area of the circle is {3.14*self.radius**2}\")\n",
        "circle1=circle(6)\n",
        "circle1.area()"
      ]
    }
  ]
}