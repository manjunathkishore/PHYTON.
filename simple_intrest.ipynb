{
  "nbformat": 4,
  "nbformat_minor": 0,
  "metadata": {
    "colab": {
      "provenance": []
    },
    "kernelspec": {
      "name": "python3",
      "display_name": "Python 3"
    },
    "language_info": {
      "name": "python"
    }
  },
  "cells": [
    {
      "cell_type": "code",
      "source": [
        "p=int(input(\"enter the principle amount:\"))\n",
        "t=int(input(\"enter the number of years:\"))\n",
        "r=float(input(\"enter the rate of intrest\"))\n",
        "result=(p*t*r)/100\n",
        "print(result)"
      ],
      "metadata": {
        "colab": {
          "base_uri": "https://localhost:8080/"
        },
        "id": "ujjJm6K_iTkK",
        "outputId": "5649174b-9f6a-4c78-98e2-00792c4e93bb"
      },
      "execution_count": 41,
      "outputs": [
        {
          "output_type": "stream",
          "name": "stdout",
          "text": [
            "enter the principle amount:10000\n",
            "enter the number of years:3\n",
            "enter the rate of intrest10\n",
            "3000.0\n"
          ]
        }
      ]
    }
  ]
}