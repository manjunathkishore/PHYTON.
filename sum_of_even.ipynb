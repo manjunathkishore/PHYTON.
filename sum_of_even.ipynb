{
  "nbformat": 4,
  "nbformat_minor": 0,
  "metadata": {
    "colab": {
      "provenance": []
    },
    "kernelspec": {
      "name": "python3",
      "display_name": "Python 3"
    },
    "language_info": {
      "name": "python"
    }
  },
  "cells": [
    {
      "cell_type": "code",
      "source": [
        "a=int(input(\"enter any even number\"))\n",
        "b=int(input(\"enter another even number\"))\n",
        "even_sum=0\n",
        "for i in range(a,b+1):\n",
        "  if i%2==0:\n",
        "    even_sum=even_sum+i\n",
        "    print(even_sum)\n"
      ],
      "metadata": {
        "colab": {
          "base_uri": "https://localhost:8080/"
        },
        "id": "XR83QeGR5yRk",
        "outputId": "471cdf85-c925-4321-dc0b-74308b0a6f87"
      },
      "execution_count": 15,
      "outputs": [
        {
          "output_type": "stream",
          "name": "stdout",
          "text": [
            "enter any even number2\n",
            "enter another even number2\n",
            "2\n"
          ]
        }
      ]
    }
  ]
}