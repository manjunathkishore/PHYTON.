{
  "nbformat": 4,
  "nbformat_minor": 0,
  "metadata": {
    "colab": {
      "provenance": []
    },
    "kernelspec": {
      "name": "python3",
      "display_name": "Python 3"
    },
    "language_info": {
      "name": "python"
    }
  },
  "cells": [
    {
      "cell_type": "code",
      "source": [
        "min=int(input(\"time in min\"))\n",
        "hour=min//60\n",
        "remainingminutes=min%60\n",
        "print(hour)\n",
        "print(remainingminutes)"
      ],
      "metadata": {
        "colab": {
          "base_uri": "https://localhost:8080/"
        },
        "id": "UOBQw3GcmsuA",
        "outputId": "21083b51-e4c9-4cdd-c255-9109dbc24a25"
      },
      "execution_count": 49,
      "outputs": [
        {
          "output_type": "stream",
          "name": "stdout",
          "text": [
            "time in min120\n",
            "2\n",
            "0\n"
          ]
        }
      ]
    }
  ]
}