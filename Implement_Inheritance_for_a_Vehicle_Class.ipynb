{
  "nbformat": 4,
  "nbformat_minor": 0,
  "metadata": {
    "colab": {
      "provenance": []
    },
    "kernelspec": {
      "name": "python3",
      "display_name": "Python 3"
    },
    "language_info": {
      "name": "python"
    }
  },
  "cells": [
    {
      "cell_type": "code",
      "source": [
        "class Vehicle:\n",
        "  def __init__(self, brand, model):\n",
        "    self.brand = brand\n",
        "    self.model = model\n",
        "  def info(self):\n",
        "    print(f\"Brand: {self.brand}, Model: {self.model}\")\n",
        "class Car(Vehicle):\n",
        "  def __init__(self, brand, model, seats):\n",
        "    super().__init__(brand, model)\n",
        "    self.seats = seats\n",
        "  def info(self):\n",
        "    super().info()\n",
        "    print(f\"Seats: {self.seats}\")\n",
        "car = Car(\"Toyota\", \"Corolla\", 5)\n",
        "car.info()"
      ],
      "metadata": {
        "colab": {
          "base_uri": "https://localhost:8080/"
        },
        "id": "Kx6ZThjLfqw_",
        "outputId": "670543ab-2bfb-4145-aabb-03ce6402d335"
      },
      "execution_count": 56,
      "outputs": [
        {
          "output_type": "stream",
          "name": "stdout",
          "text": [
            "Brand: Toyota, Model: Corolla\n",
            "Seats: 5\n"
          ]
        }
      ]
    }
  ]
}