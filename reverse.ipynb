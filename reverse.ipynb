{
  "nbformat": 4,
  "nbformat_minor": 0,
  "metadata": {
    "colab": {
      "provenance": []
    },
    "kernelspec": {
      "name": "python3",
      "display_name": "Python 3"
    },
    "language_info": {
      "name": "python"
    }
  },
  "cells": [
    {
      "cell_type": "code",
      "execution_count": 2,
      "metadata": {
        "colab": {
          "base_uri": "https://localhost:8080/"
        },
        "id": "R2LWbQbXm0dI",
        "outputId": "34c447f9-ed39-49f8-daf4-ba4ba3f242da"
      },
      "outputs": [
        {
          "output_type": "stream",
          "name": "stdout",
          "text": [
            "2\n"
          ]
        }
      ],
      "source": [
        "kishore=[1,2,3,4,58]\n",
        "print(kishore[1])"
      ]
    },
    {
      "cell_type": "code",
      "source": [
        "kishore=[\"7\",\"9\",\"4\",\"5\"]\n",
        "kishore[0]=\"3\"\n",
        "kishore.insert(1,\"8\")\n",
        "print(kishore)\n",
        "kishore.pop(4)\n",
        "print(kishore)\n",
        "len(kishore)\n",
        "kishore.sort()\n",
        "print(kishore)\n",
        "kishore.reverse()\n",
        "print(kishore)"
      ],
      "metadata": {
        "colab": {
          "base_uri": "https://localhost:8080/"
        },
        "id": "aGpwaR_cuFri",
        "outputId": "b9896aa6-80e8-44a1-bdcb-ed0c242ba58f"
      },
      "execution_count": 18,
      "outputs": [
        {
          "output_type": "stream",
          "name": "stdout",
          "text": [
            "['3', '8', '9', '4', '5']\n",
            "['3', '8', '9', '4']\n",
            "['3', '4', '8', '9']\n",
            "['9', '8', '4', '3']\n"
          ]
        }
      ]
    }
  ]
}