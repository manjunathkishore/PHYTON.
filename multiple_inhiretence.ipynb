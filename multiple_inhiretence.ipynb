{
  "nbformat": 4,
  "nbformat_minor": 0,
  "metadata": {
    "colab": {
      "provenance": []
    },
    "kernelspec": {
      "name": "python3",
      "display_name": "Python 3"
    },
    "language_info": {
      "name": "python"
    }
  },
  "cells": [
    {
      "cell_type": "code",
      "source": [
        "class a:\n",
        "  def kishore(self):\n",
        "    print(\"this is kishore\")\n",
        "class b:\n",
        "  def thejas(self):\n",
        "    print(\"this is thejas\")\n",
        "class c(a,b):\n",
        "  pass\n",
        "about=c()\n",
        "about.kishore()\n",
        "\n"
      ],
      "metadata": {
        "colab": {
          "base_uri": "https://localhost:8080/"
        },
        "id": "iVWt9fU3Unhh",
        "outputId": "813a7397-4cc9-41ae-bcdd-bc624151dd0e"
      },
      "execution_count": 30,
      "outputs": [
        {
          "output_type": "stream",
          "name": "stdout",
          "text": [
            "this is kishore\n"
          ]
        }
      ]
    }
  ]
}