{
  "nbformat": 4,
  "nbformat_minor": 0,
  "metadata": {
    "colab": {
      "provenance": []
    },
    "kernelspec": {
      "name": "python3",
      "display_name": "Python 3"
    },
    "language_info": {
      "name": "python"
    }
  },
  "cells": [
    {
      "cell_type": "code",
      "source": [
        "num1=float(input(\"first number\"))\n",
        "num2=float(input(\"second number\"))\n",
        "operation=input(\"ope5ration(=,-,*,/):\")\n",
        "if operation=='+':\n",
        "  print(\"result:\",num1+num2)\n",
        "elif operation=='-':\n",
        "  print(\"Result:\",nun1/num2)\n",
        "else:\n",
        "  print(\"invalid\")"
      ],
      "metadata": {
        "colab": {
          "base_uri": "https://localhost:8080/"
        },
        "id": "r_DTCV3gx4en",
        "outputId": "d2091d47-9e09-4bb3-ad4a-d7cb8d0a9221"
      },
      "execution_count": 14,
      "outputs": [
        {
          "output_type": "stream",
          "name": "stdout",
          "text": [
            "first number50\n",
            "second number2\n",
            "ope5ration(=,-,*,/):+\n",
            "result: 52.0\n"
          ]
        }
      ]
    }
  ]
}