{
  "nbformat": 4,
  "nbformat_minor": 0,
  "metadata": {
    "colab": {
      "provenance": []
    },
    "kernelspec": {
      "name": "python3",
      "display_name": "Python 3"
    },
    "language_info": {
      "name": "python"
    }
  },
  "cells": [
    {
      "cell_type": "code",
      "source": [
        "a=input(\"enter your name\")\n",
        "b=input(\"enter your age\")\n",
        "c=input(\"enetr yor wegight\")\n",
        "print(\"my name is \",a)\n",
        "print(\"my age is\",b)\n",
        "print(\"my  wegiht is\",c)"
      ],
      "metadata": {
        "colab": {
          "base_uri": "https://localhost:8080/"
        },
        "id": "ezof2w3khFjD",
        "outputId": "7f6c8df5-43ba-47f5-99cf-4949404bc4b2"
      },
      "execution_count": 36,
      "outputs": [
        {
          "output_type": "stream",
          "name": "stdout",
          "text": [
            "enter your namekishore\n",
            "enter your age18\n",
            "enetr yor wegight50\n",
            "my name is  kishore\n",
            "my age is 18\n",
            "my  wegiht is 50\n"
          ]
        }
      ]
    }
  ]
}