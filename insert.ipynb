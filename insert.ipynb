{
  "nbformat": 4,
  "nbformat_minor": 0,
  "metadata": {
    "colab": {
      "provenance": []
    },
    "kernelspec": {
      "name": "python3",
      "display_name": "Python 3"
    },
    "language_info": {
      "name": "python"
    }
  },
  "cells": [
    {
      "cell_type": "code",
      "execution_count": 2,
      "metadata": {
        "colab": {
          "base_uri": "https://localhost:8080/"
        },
        "id": "R2LWbQbXm0dI",
        "outputId": "34c447f9-ed39-49f8-daf4-ba4ba3f242da"
      },
      "outputs": [
        {
          "output_type": "stream",
          "name": "stdout",
          "text": [
            "2\n"
          ]
        }
      ],
      "source": [
        "kishore=[1,2,3,4,58]\n",
        "print(kishore[1])"
      ]
    },
    {
      "cell_type": "code",
      "source": [
        "kishore=[\"a\",\"b\",\"c\",\"d\"]\n",
        "kishore[0]=\"kis\"\n",
        "kishore.append(\"cid\")\n",
        "print(kishore)\n",
        "kishore.insert(1,\"king\")\n",
        "print(kishore)"
      ],
      "metadata": {
        "colab": {
          "base_uri": "https://localhost:8080/"
        },
        "id": "aGpwaR_cuFri",
        "outputId": "0221beca-258e-4839-b087-330e1a9ffe4a"
      },
      "execution_count": 3,
      "outputs": [
        {
          "output_type": "stream",
          "name": "stdout",
          "text": [
            "['kis', 'b', 'c', 'd', 'cid']\n",
            "['kis', 'king', 'b', 'c', 'd', 'cid']\n"
          ]
        }
      ]
    }
  ]
}