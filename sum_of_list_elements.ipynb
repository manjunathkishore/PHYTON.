{
  "nbformat": 4,
  "nbformat_minor": 0,
  "metadata": {
    "colab": {
      "provenance": []
    },
    "kernelspec": {
      "name": "python3",
      "display_name": "Python 3"
    },
    "language_info": {
      "name": "python"
    }
  },
  "cells": [
    {
      "cell_type": "code",
      "execution_count": 2,
      "metadata": {
        "colab": {
          "base_uri": "https://localhost:8080/"
        },
        "id": "YetbVzjMw40l",
        "outputId": "bf162460-2809-4aa6-99a9-3b4958b3fd71"
      },
      "outputs": [
        {
          "output_type": "stream",
          "name": "stdout",
          "text": [
            "15\n"
          ]
        }
      ],
      "source": [
        "def sum_of_elements(lst):\n",
        "    return sum(lst)\n",
        "numbers = [1, 2, 3, 4, 5]\n",
        "print(sum_of_elements(numbers))\n"
      ]
    }
  ]
}