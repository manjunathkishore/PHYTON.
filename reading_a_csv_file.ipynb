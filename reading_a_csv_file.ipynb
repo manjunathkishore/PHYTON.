{
  "nbformat": 4,
  "nbformat_minor": 0,
  "metadata": {
    "colab": {
      "provenance": []
    },
    "kernelspec": {
      "name": "python3",
      "display_name": "Python 3"
    },
    "language_info": {
      "name": "python"
    }
  },
  "cells": [
    {
      "cell_type": "code",
      "source": [
        "def check_age(age):\n",
        "  if age < 18:\n",
        "    raise ValueError(\"Age must be 18 or older.\")\n",
        "  return True\n",
        "try:\n",
        "  check_age(16)\n",
        "except ValueError as e:\n",
        "  print(e)"
      ],
      "metadata": {
        "colab": {
          "base_uri": "https://localhost:8080/"
        },
        "id": "p0qcRtotaw91",
        "outputId": "05c09a0b-089e-4430-e9c5-89a416f9d7c9"
      },
      "execution_count": 23,
      "outputs": [
        {
          "output_type": "stream",
          "name": "stdout",
          "text": [
            "Age must be 18 or older.\n"
          ]
        }
      ]
    },
    {
      "cell_type": "code",
      "source": [
        "import csv\n",
        "\n",
        "\n",
        "data = [\n",
        "    [\"Name\", \"Age\", \"City\"],\n",
        "    [\"kishore\", 18, \"madhugiri\"],\n",
        "    [\"thejas\", 18, \"koratagere\"],\n",
        "    [\"navatej\", 19, \"rolla\"]\n",
        "]\n",
        "filename = \"friends.csv\"\n",
        "\n",
        "\n",
        "with open(filename, mode=\"w\", newline=\"\") as file:\n",
        "    writer = csv.writer(file)\n",
        "\n",
        "\n",
        "    writer.writerows(data)\n",
        "\n",
        "print(f\"CSV file '{filename}' has been created successfully.\")\n",
        "\n",
        "with open(filename, mode=\"r\") as file:\n",
        "    reader = csv.reader(file)\n",
        "\n",
        "    for row in reader:\n",
        "        print(row)\n"
      ],
      "metadata": {
        "colab": {
          "base_uri": "https://localhost:8080/"
        },
        "id": "FA1CbQbhjWvN",
        "outputId": "248078af-6c4d-4007-e346-52c5f9b77a30"
      },
      "execution_count": 37,
      "outputs": [
        {
          "output_type": "stream",
          "name": "stdout",
          "text": [
            "CSV file 'friends.csv' has been created successfully.\n",
            "['Name', 'Age', 'City']\n",
            "['kishore', '18', 'madhugiri']\n",
            "['thejas', '18', 'koratagere']\n",
            "['navatej', '19', 'rolla']\n"
          ]
        }
      ]
    }
  ]
}