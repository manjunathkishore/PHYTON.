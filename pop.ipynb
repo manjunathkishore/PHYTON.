{
  "nbformat": 4,
  "nbformat_minor": 0,
  "metadata": {
    "colab": {
      "provenance": []
    },
    "kernelspec": {
      "name": "python3",
      "display_name": "Python 3"
    },
    "language_info": {
      "name": "python"
    }
  },
  "cells": [
    {
      "cell_type": "code",
      "execution_count": 2,
      "metadata": {
        "colab": {
          "base_uri": "https://localhost:8080/"
        },
        "id": "R2LWbQbXm0dI",
        "outputId": "34c447f9-ed39-49f8-daf4-ba4ba3f242da"
      },
      "outputs": [
        {
          "output_type": "stream",
          "name": "stdout",
          "text": [
            "2\n"
          ]
        }
      ],
      "source": [
        "kishore=[1,2,3,4,58]\n",
        "print(kishore[1])"
      ]
    },
    {
      "cell_type": "code",
      "source": [
        "kishore=[\"a\",\"b\",\"c\",\"d\"]\n",
        "kishore[0]=\"kis\"\n",
        "kishore.insert(1,\"king\")\n",
        "print(kishore)\n",
        "kishore.pop(4)\n",
        "print(kishore)"
      ],
      "metadata": {
        "colab": {
          "base_uri": "https://localhost:8080/"
        },
        "id": "aGpwaR_cuFri",
        "outputId": "d7a3a94d-4676-4d23-e477-a686f050a14e"
      },
      "execution_count": 9,
      "outputs": [
        {
          "output_type": "stream",
          "name": "stdout",
          "text": [
            "['kis', 'king', 'b', 'c', 'd']\n",
            "['kis', 'king', 'b', 'c']\n"
          ]
        }
      ]
    }
  ]
}