{
  "nbformat": 4,
  "nbformat_minor": 0,
  "metadata": {
    "colab": {
      "provenance": []
    },
    "kernelspec": {
      "name": "python3",
      "display_name": "Python 3"
    },
    "language_info": {
      "name": "python"
    }
  },
  "cells": [
    {
      "cell_type": "code",
      "source": [
        "class me:\n",
        "  def __init__(self):\n",
        "    self.pub = \"I am bad\"\n",
        "    self.__vate = \"I am good\"\n",
        "  def greet_vate(self):\n",
        "    print(self.__vate)\n",
        "obj = me()\n",
        "print(obj.pub)\n",
        "obj.greet_vate()"
      ],
      "metadata": {
        "colab": {
          "base_uri": "https://localhost:8080/"
        },
        "id": "nEEPrr2T9rE3",
        "outputId": "2dc67fc2-0383-4ef0-83ff-a88238b21d5c"
      },
      "execution_count": 15,
      "outputs": [
        {
          "output_type": "stream",
          "name": "stdout",
          "text": [
            "I am bad\n",
            "I am good\n"
          ]
        }
      ]
    }
  ]
}