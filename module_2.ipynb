{
  "nbformat": 4,
  "nbformat_minor": 0,
  "metadata": {
    "colab": {
      "provenance": []
    },
    "kernelspec": {
      "name": "python3",
      "display_name": "Python 3"
    },
    "language_info": {
      "name": "python"
    }
  },
  "cells": [
    {
      "cell_type": "code",
      "execution_count": 1,
      "metadata": {
        "id": "zh6HS-3js6E0"
      },
      "outputs": [],
      "source": [
        "def kishore():\n",
        "  print(\"my name is k \")\n",
        "  print(\"my age is  2\")"
      ]
    },
    {
      "cell_type": "code",
      "source": [
        "import dd"
      ],
      "metadata": {
        "id": "rlU6PnBk79cu"
      },
      "execution_count": 11,
      "outputs": []
    },
    {
      "cell_type": "code",
      "source": [
        "dd.kishore()"
      ],
      "metadata": {
        "colab": {
          "base_uri": "https://localhost:8080/"
        },
        "id": "CZDpPv-y8Awc",
        "outputId": "194e9a60-879f-4e23-e314-7c02d1b20483"
      },
      "execution_count": 12,
      "outputs": [
        {
          "output_type": "stream",
          "name": "stdout",
          "text": [
            "my name is k \n",
            "my age is  2\n"
          ]
        }
      ]
    }
  ]
}