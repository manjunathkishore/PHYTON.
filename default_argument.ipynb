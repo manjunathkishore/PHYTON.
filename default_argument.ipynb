{
  "nbformat": 4,
  "nbformat_minor": 0,
  "metadata": {
    "colab": {
      "provenance": []
    },
    "kernelspec": {
      "name": "python3",
      "display_name": "Python 3"
    },
    "language_info": {
      "name": "python"
    }
  },
  "cells": [
    {
      "cell_type": "code",
      "source": [
        "def greet(name, age=19):\n",
        "    print(f\"Hello {name}, you are {age} years old.\")\n",
        "\n",
        "greet(\"kishore\")\n",
        "greet(\"maans\", 18)"
      ],
      "metadata": {
        "colab": {
          "base_uri": "https://localhost:8080/"
        },
        "id": "0qb0Uc-gmh-g",
        "outputId": "06f71079-4c1a-4257-934f-b1ab935f8b07"
      },
      "execution_count": 4,
      "outputs": [
        {
          "output_type": "stream",
          "name": "stdout",
          "text": [
            "Hello kishore, you are 19 years old.\n",
            "Hello maans, you are 18 years old.\n"
          ]
        }
      ]
    }
  ]
}