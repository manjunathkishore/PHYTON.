{
  "nbformat": 4,
  "nbformat_minor": 0,
  "metadata": {
    "colab": {
      "provenance": []
    },
    "kernelspec": {
      "name": "python3",
      "display_name": "Python 3"
    },
    "language_info": {
      "name": "python"
    }
  },
  "cells": [
    {
      "cell_type": "code",
      "source": [
        "n=int(input(\"enter the terms\"))\n",
        "a,b=0,1\n",
        "for i in range(n):\n",
        "  print(a,end=\"\")\n",
        "  a,b=b,a+b"
      ],
      "metadata": {
        "colab": {
          "base_uri": "https://localhost:8080/"
        },
        "id": "cWI4lVtvrHF0",
        "outputId": "d18f6dd7-24db-4ae0-fd2f-c95165e0da25"
      },
      "execution_count": 13,
      "outputs": [
        {
          "output_type": "stream",
          "name": "stdout",
          "text": [
            "enter the terms5\n",
            "01123"
          ]
        }
      ]
    }
  ]
}