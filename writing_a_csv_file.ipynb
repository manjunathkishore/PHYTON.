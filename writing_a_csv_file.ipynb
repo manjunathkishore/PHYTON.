{
  "nbformat": 4,
  "nbformat_minor": 0,
  "metadata": {
    "colab": {
      "provenance": []
    },
    "kernelspec": {
      "name": "python3",
      "display_name": "Python 3"
    },
    "language_info": {
      "name": "python"
    }
  },
  "cells": [
    {
      "cell_type": "code",
      "source": [
        "def check_age(age):\n",
        "  if age < 18:\n",
        "    raise ValueError(\"Age must be 18 or older.\")\n",
        "  return True\n",
        "try:\n",
        "  check_age(16)\n",
        "except ValueError as e:\n",
        "  print(e)"
      ],
      "metadata": {
        "colab": {
          "base_uri": "https://localhost:8080/"
        },
        "id": "p0qcRtotaw91",
        "outputId": "05c09a0b-089e-4430-e9c5-89a416f9d7c9"
      },
      "execution_count": 23,
      "outputs": [
        {
          "output_type": "stream",
          "name": "stdout",
          "text": [
            "Age must be 18 or older.\n"
          ]
        }
      ]
    },
    {
      "cell_type": "code",
      "source": [
        "import csv\n",
        "data = [\n",
        "    [\"Name\", \"Age\", \"City\"],\n",
        "    [\"kishore\", 18, \"madhugiri\"],\n",
        "    [\"thejas\", 18, \"koratagere\"],\n",
        "    [\"ram\", 18, \"banglore\"]\n",
        "]\n",
        "filename = \"kishore.csv\"\n",
        "with open(filename, mode=\"w\", newline=\"\") as file:\n",
        "    writer = csv.writer(file)\n",
        "    writer.writerows(data)\n",
        "\n",
        "print(f\"CSV file '{filename}' has been created successfully.\")\n"
      ],
      "metadata": {
        "colab": {
          "base_uri": "https://localhost:8080/"
        },
        "id": "zZqlVygbgzX5",
        "outputId": "51599442-8bad-48cf-e343-a25f7cb21035"
      },
      "execution_count": 31,
      "outputs": [
        {
          "output_type": "stream",
          "name": "stdout",
          "text": [
            "CSV file 'kishore.csv' has been created successfully.\n"
          ]
        }
      ]
    }
  ]
}