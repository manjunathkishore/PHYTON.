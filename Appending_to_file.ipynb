{
  "nbformat": 4,
  "nbformat_minor": 0,
  "metadata": {
    "colab": {
      "provenance": []
    },
    "kernelspec": {
      "name": "python3",
      "display_name": "Python 3"
    },
    "language_info": {
      "name": "python"
    }
  },
  "cells": [
    {
      "cell_type": "code",
      "source": [
        "file = open(\"/content/newone.txt\", \"a\")\n",
        "file.write(\" good morning\")\n",
        "file.close()"
      ],
      "metadata": {
        "id": "Ch7qJvvKIrlo"
      },
      "execution_count": 13,
      "outputs": []
    }
  ]
}