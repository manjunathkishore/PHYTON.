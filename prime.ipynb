{
  "nbformat": 4,
  "nbformat_minor": 0,
  "metadata": {
    "colab": {
      "provenance": []
    },
    "kernelspec": {
      "name": "python3",
      "display_name": "Python 3"
    },
    "language_info": {
      "name": "python"
    }
  },
  "cells": [
    {
      "cell_type": "code",
      "source": [
        "def prime(n):\n",
        "  if n<2:\n",
        "    return False\n",
        "  for i in range (2,int(n**0.5)+1):\n",
        "    if n % i==0:\n",
        "      return False\n",
        "  return True\n",
        "print(prime(5))\n",
        "\n",
        "\n",
        ""
      ],
      "metadata": {
        "colab": {
          "base_uri": "https://localhost:8080/"
        },
        "id": "sNoIpYKToMrt",
        "outputId": "f4d8d089-d93d-43b9-c78d-0256914b6453"
      },
      "execution_count": 17,
      "outputs": [
        {
          "output_type": "stream",
          "name": "stdout",
          "text": [
            "True\n"
          ]
        }
      ]
    }
  ]
}