{
  "nbformat": 4,
  "nbformat_minor": 0,
  "metadata": {
    "colab": {
      "provenance": []
    },
    "kernelspec": {
      "name": "python3",
      "display_name": "Python 3"
    },
    "language_info": {
      "name": "python"
    }
  },
  "cells": [
    {
      "cell_type": "code",
      "source": [
        "import math\n",
        "angle=float(input(\"enter the angle in degree\"))\n",
        "radian=math.radians(angle)\n",
        "print(\"Sine in angles:\",math.sin(radian))\n",
        "print(\"cosinof angles:\",math.cos(radian))"
      ],
      "metadata": {
        "colab": {
          "base_uri": "https://localhost:8080/"
        },
        "id": "-LWPQqPuNQ8H",
        "outputId": "25e22725-6e51-40d7-e912-265f2ae1ebc0"
      },
      "execution_count": 4,
      "outputs": [
        {
          "output_type": "stream",
          "name": "stdout",
          "text": [
            "enter the angle in degree90\n",
            "Sine in angles: 1.0\n",
            "cosinof angles: 6.123233995736766e-17\n"
          ]
        }
      ]
    }
  ]
}